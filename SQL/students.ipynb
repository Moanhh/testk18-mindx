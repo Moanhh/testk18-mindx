{
 "cells": [
  {
   "cell_type": "code",
   "execution_count": null,
   "metadata": {},
   "outputs": [],
   "source": [
    "# 1\n",
    "SELECT * FROM students WHERE age > 18;\n",
    "\n",
    "#2\n",
    "\n",
    "SELECT * FROM students \n",
    "\t WHERE name like \"%Smith\" AND average_score > 7;\n",
    "\n",
    "#3\n",
    "\n",
    "SELECT COUNT(*)\n",
    "    FROM students WHERE average_score > 8;\n"
   ]
  }
 ],
 "metadata": {
  "language_info": {
   "name": "python"
  }
 },
 "nbformat": 4,
 "nbformat_minor": 2
}
